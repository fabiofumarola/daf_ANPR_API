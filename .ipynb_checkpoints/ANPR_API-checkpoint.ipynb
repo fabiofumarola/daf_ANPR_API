{
 "cells": [
  {
   "cell_type": "markdown",
   "metadata": {},
   "source": [
    "# ANPR API comuni\n",
    "\n",
    "## Creazione dataset per API\n",
    "\n",
    "### Abstract\n",
    "Esporra su DAF (?) un’API che fornisca le informazioni di base sui comuni italiani.\n",
    "I dati di base contenenti l’elenco dei comuni sono quelli che fornisce il Ministero dell’Interno sul sito di ANPR. A corollario si integrano altre informazioni di utilità sui comuni italiani che provengono da diversi fonti dati che fornisce ISTAT.\n",
    "\n",
    "### Note\n",
    "Chiarire bene con Mirko le info del dataset di ANPR (comuni cessati, codice...) e come considerare ogni record: nella prima implementazione vado in join su codice istat . capire come raccordare i 19.000 record di ANPR con ISTAT (ad oggi su join codice ISTAT)\n",
    "\n",
    "Stabilire la frequenza di aggiornamento del dataset considerando che il dataset di partenza (in formato Excel) ANPR viene pubblicato ogni giorno e contiene circa 19.000 record.\n",
    "\n",
    "Verificare con Mirko se è già presente un flusso verso il team oppure dobbiamo implementarne uno ad hoc. Anche se la pubblicazione è giornaliera i dati sui comuni variano lentamente nel tempo.\n",
    "i dataset con i dati a corollario di ISTAT sono sui comuni esistenti (poco meno di 8000), non vengono rilasciato con una frequenza prefissata, verranno quindi controllati periodicamente\n",
    "\n",
    "\n",
    "### Dataset coinvolti:\n",
    "\n",
    "#### ANPR: Archivio storico dei comuni\n",
    "\n",
    "- Comuni subentrati\n",
    "https://www.anpr.interno.it/portale/documents/20182/50186/Tabella_45+Comuni+subentrati+31052018.xlsx/3c699246-f351-499d-950e-244c794ee39b\n",
    "\n",
    "- Tabelle di riferimento\n",
    "https://www.anpr.interno.it/portale/tabelle-di-riferimento\n",
    "\n",
    "Archivio storico dei comuni (01-06-2018) - xls\n",
    "formato Excel -XSL\n",
    "\n",
    "frequenza di aggiornamento?\n",
    "\n",
    "definire flusso in DAF?\n",
    "\n",
    "individuare persona di riferimento, sentire Mirko\n",
    "\n",
    "##### Campi:\n",
    "\n",
    "ID\t\n",
    "\n",
    "DATAISTITUZIONE\t\n",
    "\n",
    "DATACESSAZIONE\t\n",
    "\n",
    "CODISTAT (alfanumerico)\n",
    "\n",
    "CODCATASTALE (rimane lo stesso anche quando cambia il codice istat?)\t\n",
    "\n",
    "DENOMINAZIONE_IT\t\n",
    "\n",
    "DENOMTRASLITTERATA\t\n",
    "\n",
    "ALTRADENOMINAZIONE\t\n",
    "\n",
    "ALTRADENOMTRASLITTERATA\t\n",
    "\n",
    "IDPROVINCIA\t\n",
    "\n",
    "IDREGIONE\t\n",
    "\n",
    "IDPREFETTURA\t\n",
    "\n",
    "STATO\t\n",
    "\n",
    "SIGLAPROVINCIA\t\n",
    "\n",
    "FONTE\t\n",
    "\n",
    "DATAULTIMOAGG\t\n",
    "\n",
    "COD_DENOM\n",
    "\n",
    "\n",
    "#### ISTAT: \n",
    "\n",
    " - Info geografiche reperite da \"ARCHIVIO DEI CONFINI DELLE UNITÀ AMMINISTRATIVE A FINI STATISTICI:\n",
    " \n",
    " Comuni_2016.geojson (convertito shp)\n",
    "https://www.istat.it/it/archivio/124086\n",
    "\n",
    "- PERMALINK COMUNI Italiani https://www.istat.it/storage/codici-unita-amministrative/Elenco-comuni-italiani.csv\n",
    "    \n",
    "- PRINCIPALI STATISTICHE GEOGRAFICHE SUI COMUNI\n",
    "https://www.istat.it/it/archivio/156224\n",
    "\n",
    "In particolare sono integrati i seguenti dataset:\n",
    "\n",
    "Classificazioni statistiche (zip) reperibile al link:\n",
    "https://www.istat.it/it/files//2015/04/Classificazioni-statistiche.zip\n",
    "\n",
    "Il file utilizzato è quello con la data più recente: \"Classificazioni statistiche_comuni_17_02_2018.xls\"\n",
    "\n",
    "I campi contenuti sono:\n",
    "\n",
    "\n",
    "\n",
    "\n",
    "Informazioni geografiche sui comuni:\n",
    "\n",
    "poligono\n",
    "\n",
    "latitudine e longitudine centroide\n",
    "\n",
    "\n",
    "### Funzionalità’ API:\n",
    "\n",
    "Il dataset di ANPR unito a dataset di ISTAT su campo codice ISTAT\n",
    "\n",
    "\n",
    "* ricerca comune\n",
    "* ricerca provincia: ritorna record con comuni provincia\n",
    "* ricerca regione: ritorna record con comuni della regione\n",
    "\n",
    "* next: dato una latitudine e longitudine ritorna comune di appartenenza\n",
    "\n",
    "\n",
    "Da smarcare:\n",
    "\n",
    "\tquestione comuni con serie storica\n",
    "\n",
    "#### Utili:\n",
    "Vedere post su forum per confronto:\n",
    "\n",
    "* https://forum.italia.it/t/api-per-lelenco-dei-comuni-italiani/1349/18\n",
    "* https://github.com/italia/anpr/issues/331\n",
    "* https://github.com/teamdigitale/dashboards-script/tree/master/anpr\n",
    " \n",
    "\n",
    "    "
   ]
  },
  {
   "cell_type": "code",
   "execution_count": null,
   "metadata": {},
   "outputs": [],
   "source": [
    "import pandas as pd\n",
    "import numpy as np\n",
    "import geopandas as gpd\n",
    "import matplotlib.pyplot as plt\n",
    "from datetime import datetime\n",
    "\n",
    "from IPython.display import display, HTML\n",
    "from IPython.core.interactiveshell import InteractiveShell\n",
    "InteractiveShell.ast_node_interactivity = \"all\" #setta l'esecuzione di più statement in unica cella\n",
    "pd.set_option('display.max_colwidth', -1) \n",
    "pd.set_option('display.width', 5000) \n",
    "pd.set_option('display.max_columns', 200) "
   ]
  },
  {
   "cell_type": "markdown",
   "metadata": {},
   "source": [
    "### ANPR: elenco comuni\n",
    "\n",
    "Da notare che i due campi data sono in formato diverso (!)\n",
    "es. \n",
    "* DATACESSAZIONE: 1861-03-17 e 13/11/1924 e 9999-12-31 00:00:00\n",
    "\n",
    "* DATAISTITUZIONE 1948-12-05\n",
    "\n",
    "Per capire a parità di nome quali sono gli attuali è corretto filtrare su:\n",
    "DATACESSAZIONE = 31/12/9999\t"
   ]
  },
  {
   "cell_type": "code",
   "execution_count": null,
   "metadata": {},
   "outputs": [],
   "source": [
    "anpr_comuni = pd.read_excel(\"./data/tabella 3 archivio comuni 20180601.xlsx\", dtype={'CODISTAT':'str'})\n",
    "#  alfanumerico poichè il file con le geo ha codice istat numerico"
   ]
  },
  {
   "cell_type": "code",
   "execution_count": null,
   "metadata": {},
   "outputs": [],
   "source": [
    "anpr_comuni.dtypes"
   ]
  },
  {
   "cell_type": "code",
   "execution_count": null,
   "metadata": {},
   "outputs": [],
   "source": [
    "anpr_comuni.head(5)"
   ]
  },
  {
   "cell_type": "code",
   "execution_count": null,
   "metadata": {},
   "outputs": [],
   "source": [
    "#anpr_comuni['DATAISTITUZIONE'] = anpr_comuni['DATAISTITUZIONE'].str.replace('/','-')\n",
    "#anpr_comuni['DATACESSAZIONE'] = anpr_comuni['DATACESSAZIONE'].str.replace('/','-')"
   ]
  },
  {
   "cell_type": "code",
   "execution_count": null,
   "metadata": {},
   "outputs": [],
   "source": [
    "d_format = '%d/%m/%Y'\n",
    "#If ‘coerce’, then invalid parsing will be set as NaN\n",
    "#anpr_comuni[\"DATAISTITUZIONE\"]= pd.to_datetime(anpr_comuni[\"DATAISTITUZIONE\"], format=d_format, errors='coerce')\n",
    "#anpr_comuni[\"DATACESSAZIONE\"]= pd.to_datetime(anpr_comuni[\"DATACESSAZIONE\"], format=d_format, errors='coerce')\n",
    "#anpr_comuni[\"DATAULTIMOAGG\"]= pd.to_datetime(anpr_comuni[\"DATAULTIMOAGG\"], format=d_format, errors='coerce')\n"
   ]
  },
  {
   "cell_type": "code",
   "execution_count": null,
   "metadata": {},
   "outputs": [],
   "source": [
    "# verificare con mirko se questa è la info che ci dice che il comune è \"valido\"\n",
    "temp =anpr_comuni[anpr_comuni[\"DATACESSAZIONE\"]=='31/12/9999']"
   ]
  },
  {
   "cell_type": "code",
   "execution_count": null,
   "metadata": {},
   "outputs": [],
   "source": [
    "len(temp)"
   ]
  },
  {
   "cell_type": "code",
   "execution_count": null,
   "metadata": {},
   "outputs": [],
   "source": [
    "anpr_comuni.DATAISTITUZIONE.unique()"
   ]
  },
  {
   "cell_type": "code",
   "execution_count": null,
   "metadata": {},
   "outputs": [],
   "source": [
    "anpr_comuni.DATAULTIMOAGG.unique()"
   ]
  },
  {
   "cell_type": "code",
   "execution_count": null,
   "metadata": {},
   "outputs": [],
   "source": [
    "anpr_comuni.DATACESSAZIONE.isnull().sum()"
   ]
  },
  {
   "cell_type": "code",
   "execution_count": null,
   "metadata": {},
   "outputs": [],
   "source": [
    "anpr_comuni[anpr_comuni.DENOMINAZIONE_IT=='TERRALBA']"
   ]
  },
  {
   "cell_type": "code",
   "execution_count": null,
   "metadata": {},
   "outputs": [],
   "source": [
    "len(anpr_comuni)"
   ]
  },
  {
   "cell_type": "code",
   "execution_count": null,
   "metadata": {},
   "outputs": [],
   "source": [
    "anpr_comuni.CODCATASTALE.nunique()"
   ]
  },
  {
   "cell_type": "markdown",
   "metadata": {},
   "source": [
    "#### Codici ISTAT univoci"
   ]
  },
  {
   "cell_type": "code",
   "execution_count": null,
   "metadata": {},
   "outputs": [],
   "source": [
    "anpr_comuni.CODISTAT.nunique()"
   ]
  },
  {
   "cell_type": "markdown",
   "metadata": {},
   "source": [
    "## ISTAT: integrazione info a corollario\n",
    "\n"
   ]
  },
  {
   "cell_type": "markdown",
   "metadata": {},
   "source": [
    "### Load elenco comuni\n",
    "\n",
    "file Elenco-comuni-italiani.csv"
   ]
  },
  {
   "cell_type": "code",
   "execution_count": null,
   "metadata": {},
   "outputs": [],
   "source": [
    "istat_comuni_elenco = pd.read_csv(\"./data/Elenco-comuni-italiani.csv\", dtype={'Codice Comune formato alfanumerico':'str'},\n",
    "                                  encoding=\"ISO-8859-1\", sep=\";\")\n",
    "istat_comuni_elenco.rename(columns={\"Codice Comune formato alfanumerico\": 'CODISTAT'}, inplace=True)"
   ]
  },
  {
   "cell_type": "code",
   "execution_count": null,
   "metadata": {},
   "outputs": [],
   "source": [
    "istat_comuni_elenco.head(5) "
   ]
  },
  {
   "cell_type": "code",
   "execution_count": null,
   "metadata": {},
   "outputs": [],
   "source": [
    "final_0 = anpr_comuni.merge(istat_comuni_elenco, on='CODISTAT', how='inner')"
   ]
  },
  {
   "cell_type": "code",
   "execution_count": 68,
   "metadata": {},
   "outputs": [
    {
     "data": {
      "text/plain": [
       "12376"
      ]
     },
     "execution_count": 68,
     "metadata": {},
     "output_type": "execute_result"
    }
   ],
   "source": [
    "len(final_0)"
   ]
  },
  {
   "cell_type": "markdown",
   "metadata": {},
   "source": [
    "### Load statistiche comuni"
   ]
  },
  {
   "cell_type": "code",
   "execution_count": null,
   "metadata": {},
   "outputs": [],
   "source": [
    "istat_comuni_stat = pd.read_excel(\"./data/Classificazioni statistiche_comuni_17_02_2018.xls\", \n",
    "                                  dtype={'Codice Istat del Comune \\n(formato alfanumerico)':'str', \n",
    "                                         'Codice Istat del Comune \\n(formato numerico)': np.int64}\n",
    "                    )\n"
   ]
  },
  {
   "cell_type": "code",
   "execution_count": null,
   "metadata": {},
   "outputs": [],
   "source": [
    "istat_comuni_stat.rename(columns={\"Codice Istat del Comune \\n(formato alfanumerico)\": 'CODISTAT',\n",
    "                                  \"Codice Istat del Comune \\n(formato numerico)\":\"CODISTAT_N\"}, inplace=True)"
   ]
  },
  {
   "cell_type": "code",
   "execution_count": null,
   "metadata": {},
   "outputs": [],
   "source": [
    "istat_comuni_stat.dtypes"
   ]
  },
  {
   "cell_type": "code",
   "execution_count": null,
   "metadata": {},
   "outputs": [],
   "source": [
    "istat_comuni_stat.head(3)"
   ]
  },
  {
   "cell_type": "markdown",
   "metadata": {},
   "source": [
    "## Join ANPR/ISTAT lista/ISTAT stat "
   ]
  },
  {
   "cell_type": "code",
   "execution_count": null,
   "metadata": {},
   "outputs": [],
   "source": [
    "final_1 = final_0.merge(istat_comuni_stat, on='CODISTAT', how='inner') #left"
   ]
  },
  {
   "cell_type": "code",
   "execution_count": null,
   "metadata": {},
   "outputs": [],
   "source": [
    "final_1.dtypes"
   ]
  },
  {
   "cell_type": "code",
   "execution_count": null,
   "metadata": {},
   "outputs": [],
   "source": [
    "final_1.head(6)"
   ]
  },
  {
   "cell_type": "code",
   "execution_count": null,
   "metadata": {},
   "outputs": [],
   "source": [
    "drop = ['Codice Regione_x',\n",
    "        'Codice Provincia (1)',\n",
    "        'Progressivo del Comune (2)',\n",
    "        'Denominazione in italiano_x',\n",
    "        'Denominazione altra lingua_x',\n",
    "        'Codice Catastale del comune',\n",
    "        'Codice Regione_y',\n",
    "        'Denominazione in italiano_y',\n",
    "        'Denominazione altra lingua_y']\n",
    "\n",
    "\n",
    "# drop by Name\n",
    "final_1 = final_1.drop(drop, axis=1)"
   ]
  },
  {
   "cell_type": "code",
   "execution_count": 69,
   "metadata": {},
   "outputs": [
    {
     "data": {
      "text/plain": [
       "12375"
      ]
     },
     "execution_count": 69,
     "metadata": {},
     "output_type": "execute_result"
    }
   ],
   "source": [
    "len(final_1)"
   ]
  },
  {
   "cell_type": "markdown",
   "metadata": {},
   "source": [
    "### Load geojson dei comuni al 2016 da fonte ISTAT\n",
    "\n",
    "Il codice istat è numerico, qui ci sono solo i record dei comuni al 2016\n"
   ]
  },
  {
   "cell_type": "code",
   "execution_count": null,
   "metadata": {},
   "outputs": [],
   "source": [
    "fname = \"./data/Comuni_2016.geojson\"\n",
    "comuni_geo = gpd.read_file(fname)\n",
    "#aggiungo latitudine e longitudine del centroide\n",
    "comuni_geo[\"lat\"] = comuni_geo.geometry.centroid.y\n",
    "comuni_geo[\"long\"] = comuni_geo.geometry.centroid.x"
   ]
  },
  {
   "cell_type": "code",
   "execution_count": null,
   "metadata": {},
   "outputs": [],
   "source": [
    "#check\n",
    "len(comuni_geo)\n",
    "comuni_geo[comuni_geo.COMUNE=='Terralba']"
   ]
  },
  {
   "cell_type": "code",
   "execution_count": null,
   "metadata": {},
   "outputs": [],
   "source": [
    "#comuni_geo.plot(column='COMUNE', categorical=True, legend=True, figsize=(18, 10));"
   ]
  },
  {
   "cell_type": "markdown",
   "metadata": {},
   "source": [
    "## JOIN Geo "
   ]
  },
  {
   "cell_type": "code",
   "execution_count": null,
   "metadata": {},
   "outputs": [],
   "source": [
    "full = final_1.merge(comuni_geo[['PRO_COM','geometry','lat','long']], left_on='CODISTAT_N', right_on='PRO_COM', how='inner')"
   ]
  },
  {
   "cell_type": "code",
   "execution_count": 70,
   "metadata": {},
   "outputs": [
    {
     "data": {
      "text/plain": [
       "12113"
      ]
     },
     "execution_count": 70,
     "metadata": {},
     "output_type": "execute_result"
    }
   ],
   "source": [
    "len(full)"
   ]
  },
  {
   "cell_type": "code",
   "execution_count": null,
   "metadata": {},
   "outputs": [],
   "source": [
    "full.head(10)"
   ]
  },
  {
   "cell_type": "code",
   "execution_count": null,
   "metadata": {},
   "outputs": [],
   "source": [
    "full.geometry.isnull().sum()"
   ]
  },
  {
   "cell_type": "code",
   "execution_count": null,
   "metadata": {},
   "outputs": [],
   "source": [
    "full.dtypes"
   ]
  },
  {
   "cell_type": "markdown",
   "metadata": {},
   "source": [
    "### Save final dataframe "
   ]
  },
  {
   "cell_type": "code",
   "execution_count": null,
   "metadata": {},
   "outputs": [],
   "source": [
    "full.to_csv(\"./data/full.csv\", index=False, sep=\";\" )"
   ]
  }
 ],
 "metadata": {
  "kernelspec": {
   "display_name": "Python [conda env:mappa]",
   "language": "python",
   "name": "conda-env-mappa-py"
  },
  "language_info": {
   "codemirror_mode": {
    "name": "ipython",
    "version": 3
   },
   "file_extension": ".py",
   "mimetype": "text/x-python",
   "name": "python",
   "nbconvert_exporter": "python",
   "pygments_lexer": "ipython3",
   "version": "3.5.5"
  }
 },
 "nbformat": 4,
 "nbformat_minor": 2
}
